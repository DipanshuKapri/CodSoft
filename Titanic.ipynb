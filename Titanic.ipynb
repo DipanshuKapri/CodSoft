{
  "nbformat": 4,
  "nbformat_minor": 0,
  "metadata": {
    "colab": {
      "provenance": []
    },
    "kernelspec": {
      "name": "python3",
      "display_name": "Python 3"
    },
    "language_info": {
      "name": "python"
    }
  },
  "cells": [
    {
      "cell_type": "code",
      "source": [
        "import pandas as pd\n",
        "# Load the Titanic dataset\n",
        "file_path = \"Titanic-Dataset.csv\"\n",
        "df = pd.read_csv(file_path)\n",
        "# Display basic information and first few rows\n",
        "df.info(), df.head()\n",
        "from sklearn.model_selection import train_test_split\n",
        "from sklearn.preprocessing import LabelEncoder, StandardScaler\n",
        "from sklearn.impute import SimpleImputer\n",
        "\n",
        "# Drop unnecessary columns: PassengerId, Name, Ticket, and Cabin (too many missing values)\n",
        "df_cleaned = df.drop(columns=[\"PassengerId\", \"Name\", \"Ticket\", \"Cabin\"])\n",
        "\n",
        "# Fill missing Age values with median\n",
        "imputer = SimpleImputer(strategy=\"median\")\n",
        "df_cleaned[\"Age\"] = imputer.fit_transform(df_cleaned[[\"Age\"]])\n",
        "\n",
        "# Fill missing Embarked values with the most frequent category\n",
        "df_cleaned[\"Embarked\"].fillna(df_cleaned[\"Embarked\"].mode()[0], inplace=True)\n",
        "\n",
        "# Convert categorical features to numerical\n",
        "label_encoders = {}\n",
        "for col in [\"Sex\", \"Embarked\"]:\n",
        "    le = LabelEncoder()\n",
        "    df_cleaned[col] = le.fit_transform(df_cleaned[col])\n",
        "    label_encoders[col] = le\n",
        "\n",
        "# Separate features and target variable\n",
        "X = df_cleaned.drop(columns=[\"Survived\"])\n",
        "y = df_cleaned[\"Survived\"]\n",
        "\n",
        "# Split data into training and test sets (80% train, 20% test)\n",
        "X_train, X_test, y_train, y_test = train_test_split(X, y, test_size=0.2, random_state=42)\n",
        "\n",
        "# Standardize numerical features\n",
        "scaler = StandardScaler()\n",
        "X_train = scaler.fit_transform(X_train)\n",
        "X_test = scaler.transform(X_test)\n",
        "\n",
        "X_train.shape, X_test.shape\n"
      ],
      "metadata": {
        "colab": {
          "base_uri": "https://localhost:8080/"
        },
        "id": "btN1tmwZNBaJ",
        "outputId": "060e34a8-4b3e-4ef1-b46e-bf6cf0459135"
      },
      "execution_count": 9,
      "outputs": [
        {
          "output_type": "stream",
          "name": "stdout",
          "text": [
            "<class 'pandas.core.frame.DataFrame'>\n",
            "RangeIndex: 891 entries, 0 to 890\n",
            "Data columns (total 12 columns):\n",
            " #   Column       Non-Null Count  Dtype  \n",
            "---  ------       --------------  -----  \n",
            " 0   PassengerId  891 non-null    int64  \n",
            " 1   Survived     891 non-null    int64  \n",
            " 2   Pclass       891 non-null    int64  \n",
            " 3   Name         891 non-null    object \n",
            " 4   Sex          891 non-null    object \n",
            " 5   Age          714 non-null    float64\n",
            " 6   SibSp        891 non-null    int64  \n",
            " 7   Parch        891 non-null    int64  \n",
            " 8   Ticket       891 non-null    object \n",
            " 9   Fare         891 non-null    float64\n",
            " 10  Cabin        204 non-null    object \n",
            " 11  Embarked     889 non-null    object \n",
            "dtypes: float64(2), int64(5), object(5)\n",
            "memory usage: 83.7+ KB\n"
          ]
        },
        {
          "output_type": "stream",
          "name": "stderr",
          "text": [
            "<ipython-input-9-ee250436fcef>:19: FutureWarning: A value is trying to be set on a copy of a DataFrame or Series through chained assignment using an inplace method.\n",
            "The behavior will change in pandas 3.0. This inplace method will never work because the intermediate object on which we are setting values always behaves as a copy.\n",
            "\n",
            "For example, when doing 'df[col].method(value, inplace=True)', try using 'df.method({col: value}, inplace=True)' or df[col] = df[col].method(value) instead, to perform the operation inplace on the original object.\n",
            "\n",
            "\n",
            "  df_cleaned[\"Embarked\"].fillna(df_cleaned[\"Embarked\"].mode()[0], inplace=True)\n"
          ]
        },
        {
          "output_type": "execute_result",
          "data": {
            "text/plain": [
              "((712, 7), (179, 7))"
            ]
          },
          "metadata": {},
          "execution_count": 9
        }
      ]
    },
    {
      "cell_type": "code",
      "source": [
        "from sklearn.linear_model import LogisticRegression\n",
        "from sklearn.metrics import accuracy_score, classification_report\n",
        "\n",
        "# Train Logistic Regression model\n",
        "model = LogisticRegression(random_state=42)\n",
        "model.fit(X_train, y_train)\n",
        "\n",
        "# Make predictions\n",
        "y_pred = model.predict(X_test)\n",
        "\n",
        "# Evaluate model performance\n",
        "accuracy = accuracy_score(y_test, y_pred)\n",
        "report = classification_report(y_test, y_pred)\n",
        "\n",
        "accuracy, report"
      ],
      "metadata": {
        "colab": {
          "base_uri": "https://localhost:8080/"
        },
        "id": "QMou73Rbf5VK",
        "outputId": "68f50b42-e1f0-4b97-949e-41f031139885"
      },
      "execution_count": 10,
      "outputs": [
        {
          "output_type": "execute_result",
          "data": {
            "text/plain": [
              "(0.8044692737430168,\n",
              " '              precision    recall  f1-score   support\\n\\n           0       0.82      0.86      0.84       105\\n           1       0.78      0.73      0.76        74\\n\\n    accuracy                           0.80       179\\n   macro avg       0.80      0.79      0.80       179\\nweighted avg       0.80      0.80      0.80       179\\n')"
            ]
          },
          "metadata": {},
          "execution_count": 10
        }
      ]
    }
  ]
}